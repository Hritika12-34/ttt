{
 "cells": [
  {
   "cell_type": "code",
   "execution_count": 9,
   "id": "0da923f5-b979-45de-880f-69055084d6d4",
   "metadata": {},
   "outputs": [],
   "source": [
    "import pandas as pd\n",
    "from sklearn.datasets import load_iris\n",
    "from sklearn.model_selection import train_test_split,GridSearchCV\n",
    "from sklearn.ensemble import RandomForestClassifier\n",
    "from sklearn.metrics import accuracy_score\n",
    "import joblib\n",
    "import os"
   ]
  },
  {
   "cell_type": "code",
   "execution_count": 11,
   "id": "9689754f-60e0-4f57-a22e-8097446267c0",
   "metadata": {},
   "outputs": [],
   "source": [
    "os.makedirs(\"make\",exist_ok=True)"
   ]
  },
  {
   "cell_type": "code",
   "execution_count": 13,
   "id": "39ee274f-3174-49b7-a3a7-1bc5e88e26b7",
   "metadata": {},
   "outputs": [],
   "source": [
    "iris= load_iris()\n",
    "x=iris.data\n",
    "y=iris.target\n",
    "\n",
    "x_train,x_test,y_train,y_test= train_test_split(x,y,train_size=0.2,random_state=42)"
   ]
  },
  {
   "cell_type": "code",
   "execution_count": 15,
   "id": "bc06cf9b-de9a-4ea1-a2a3-b927ddad2f44",
   "metadata": {},
   "outputs": [
    {
     "name": "stdout",
     "output_type": "stream",
     "text": [
      "Test Accuracy: 0.9333\n"
     ]
    },
    {
     "data": {
      "text/plain": [
       "['make/model_v1.pkl']"
      ]
     },
     "execution_count": 15,
     "metadata": {},
     "output_type": "execute_result"
    }
   ],
   "source": [
    "model_v1= RandomForestClassifier(random_state=42)\n",
    "model_v1.fit(x_train,y_train)\n",
    "\n",
    "y_pred_v1= model_v1.predict(x_test)\n",
    "acc_v1= accuracy_score(y_test,y_pred_v1)\n",
    "print(f\"Test Accuracy: {acc_v1:.4f}\")\n",
    "\n",
    "joblib.dump(model_v1,\"make/model_v1.pkl\")"
   ]
  },
  {
   "cell_type": "code",
   "execution_count": 21,
   "id": "c94290f9-a93a-49f5-ae9c-5f461a2f5668",
   "metadata": {},
   "outputs": [
    {
     "name": "stdout",
     "output_type": "stream",
     "text": [
      "Test Accuracy: 0.9333\n"
     ]
    },
    {
     "data": {
      "text/plain": [
       "['make/model_v2.pkl']"
      ]
     },
     "execution_count": 21,
     "metadata": {},
     "output_type": "execute_result"
    }
   ],
   "source": [
    "param_grid= {\n",
    "    'n_estimators':[10,50,100],\n",
    "    'max_depth':[2,4,6,None]\n",
    "}\n",
    "\n",
    "grid_search=GridSearchCV(RandomForestClassifier(random_state=42),param_grid,cv=3)\n",
    "grid_search.fit(x_train,y_train)\n",
    "\n",
    "best_model= grid_search.best_estimator_\n",
    "\n",
    "y_pred_v2= best_model.predict(x_test)\n",
    "acc_v2= accuracy_score(y_test,y_pred_v2)\n",
    "print(f\"Test Accuracy: {acc_v2:.4f}\")\n",
    "\n",
    "joblib.dump(best_model,\"make/model_v2.pkl\")"
   ]
  },
  {
   "cell_type": "code",
   "execution_count": 23,
   "id": "18d3b669-8ff6-4955-827f-c216b6f151e4",
   "metadata": {},
   "outputs": [
    {
     "name": "stdout",
     "output_type": "stream",
     "text": [
      "  Model_Versions  Accuracy                           Best_Params\n",
      "0             v1  0.933333                                  None\n",
      "1             v2  0.933333  {'max_depth': 2, 'n_estimators': 50}\n"
     ]
    }
   ],
   "source": [
    "results= {\n",
    "    \"Model_Versions\":[\"v1\",\"v2\"],\n",
    "    \"Accuracy\":[acc_v1,acc_v2],\n",
    "    \"Best_Params\":[None,grid_search.best_params_]\n",
    "}\n",
    "\n",
    "results_df= pd.DataFrame(results)\n",
    "results_df.to_csv(\"make/results.csv\",index=False)\n",
    "print(results_df)"
   ]
  },
  {
   "cell_type": "code",
   "execution_count": null,
   "id": "8a5287e8-c836-4ed9-a41f-472c4488932e",
   "metadata": {},
   "outputs": [],
   "source": []
  }
 ],
 "metadata": {
  "kernelspec": {
   "display_name": "Python [conda env:base] *",
   "language": "python",
   "name": "conda-base-py"
  },
  "language_info": {
   "codemirror_mode": {
    "name": "ipython",
    "version": 3
   },
   "file_extension": ".py",
   "mimetype": "text/x-python",
   "name": "python",
   "nbconvert_exporter": "python",
   "pygments_lexer": "ipython3",
   "version": "3.12.7"
  }
 },
 "nbformat": 4,
 "nbformat_minor": 5
}
